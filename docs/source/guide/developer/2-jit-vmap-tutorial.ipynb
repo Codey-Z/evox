{
 "cells": [
  {
   "cell_type": "markdown",
   "metadata": {},
   "source": [
    "# Optimizing Development for EvoX via PyTorch Advanced Techniques"
   ]
  },
  {
   "cell_type": "markdown",
   "metadata": {},
   "source": [
    "## Basic Optimization Support for Functions in PyTorch\n",
    "\n",
    "PyTorch provides fundamental optimization support for functions, primarily through vectorizing map operations and Just-In-Time (JIT) compilation. These techniques enable efficient batch processing and enhance execution performance, respectively. Introductions of these optimizations are provided in the following sections."
   ]
  },
  {
   "cell_type": "markdown",
   "metadata": {},
   "source": [
    "### Batch Processing Support through Vectorizing Map in PyTorch\n",
    "\n",
    "Vectorizing map, implemented in PyTorch as torch.vmap, is a powerful tool that takes callable functions and returns a new and enhanced version. According to a specified strategy, this new function vectorizes the operations of the original one, which facilitates efficient batch processing. In EvoX, for example, this feature plays a crucial role in population-based evolutionary processes."
   ]
  },
  {
   "cell_type": "code",
   "execution_count": 1,
   "metadata": {},
   "outputs": [
    {
     "data": {
      "text/plain": [
       "tensor([[ 0,  1,  4,  9, 16, 25, 36, 49, 64],\n",
       "        [ 0,  1,  4,  9, 16, 25, 36, 49, 64],\n",
       "        [ 0,  1,  4,  9, 16, 25, 36, 49, 64]])"
      ]
     },
     "execution_count": 1,
     "metadata": {},
     "output_type": "execute_result"
    }
   ],
   "source": [
    "import torch\n",
    "\n",
    "\n",
    "def dummy_evaluation(pop_x: torch.Tensor, y: torch.Tensor):\n",
    "    return pop_x * y\n",
    "batched_dummy_evaluation = torch.vmap(dummy_evaluation, (0, None))\n",
    "\n",
    "population_size = 3\n",
    "individual_vector_size = 9\n",
    "pop_x = torch.arange(individual_vector_size).repeat(population_size, 1)\n",
    "y = torch.arange(individual_vector_size)\n",
    "\n",
    "batched_dummy_evaluation(pop_x, y)"
   ]
  },
  {
   "cell_type": "markdown",
   "metadata": {},
   "source": [
    "### Just-In-Time (JIT) Support in PyTorch\n",
    "\n",
    "In PyTorch, `torch.jit.trace` and `torch.jit.script` provide two distinct types of JIT tools, supporting function performance optimization through tracing and scripting, respectively.\n",
    "\n",
    "Based on the tracing strategy, the `torch.jit.trace` method offers higher parsing speed and broader compatibility, such as with `torch.vmap` operations. Although it provides excellent support for simple functions, it is not suitable for complex tasks involving dynamic if-else branches and loop control flows."
   ]
  },
  {
   "cell_type": "code",
   "execution_count": 2,
   "metadata": {},
   "outputs": [],
   "source": [
    "import functools\n",
    "\n",
    "\n",
    "@functools.partial(torch.vmap, in_dims=(0, None))\n",
    "def vmap_sample_func(x: torch.Tensor, y: torch.Tensor):\n",
    "    return x.sum() + y"
   ]
  },
  {
   "cell_type": "markdown",
   "metadata": {},
   "source": [
    "In the example below, the traced `vmap` function successfully returns the correct code representation:"
   ]
  },
  {
   "cell_type": "code",
   "execution_count": 3,
   "metadata": {},
   "outputs": [
    {
     "name": "stdout",
     "output_type": "stream",
     "text": [
      "def vmap_sample_func(x: Tensor,\n",
      "    y: Tensor) -> Tensor:\n",
      "  _0 = torch.add(torch.view(torch.sum(x, [1]), [3, 1]), y)\n",
      "  return _0\n",
      "\n"
     ]
    }
   ],
   "source": [
    "traced_vmap_func = torch.jit.trace(vmap_sample_func,\n",
    "    example_inputs=(pop_x, y),\n",
    ")\n",
    "print(traced_vmap_func.code)"
   ]
  },
  {
   "cell_type": "markdown",
   "metadata": {},
   "source": [
    "Alternatively, the `torch.jit.script` method, which adopts a scripting strategy, is better suited for complex tasks that involve dynamic control flows but has limited compatibility."
   ]
  },
  {
   "cell_type": "markdown",
   "metadata": {},
   "source": [
    "In this example, the same `vmap_sample_func` function, after being scripted, returns an **incorrect** code representation:"
   ]
  },
  {
   "cell_type": "code",
   "execution_count": 4,
   "metadata": {},
   "outputs": [
    {
     "name": "stdout",
     "output_type": "stream",
     "text": [
      "def vmap_sample_func(x: Tensor,\n",
      "    y: Tensor) -> Tensor:\n",
      "  return torch.add(torch.sum(x), y)\n",
      "\n"
     ]
    },
    {
     "name": "stderr",
     "output_type": "stream",
     "text": [
      "/root/env_evoxtorch/lib/python3.12/site-packages/torch/jit/_script.py:1139: UserWarning: Warning: monkeytype is not installed. Please install https://github.com/Instagram/MonkeyType to enable Profile-Directed Typing in TorchScript. Refer to https://github.com/Instagram/MonkeyType/blob/master/README.rst to install MonkeyType. \n",
      "  warnings.warn(\n"
     ]
    }
   ],
   "source": [
    "scripted_vmap_func = torch.jit.script(vmap_sample_func,\n",
    "    example_inputs=(pop_x, y),\n",
    ")\n",
    "print(scripted_vmap_func.code)"
   ]
  },
  {
   "cell_type": "markdown",
   "metadata": {},
   "source": [
    "### Combined Usage of JIT and Vectorizing Map in PyTorch\n",
    "\n",
    "Based on the introductions above, when `torch.jit.trace` and `torch.jit.script` are used in combination with `torch.vmap`, coordination is required due to compatibility considerations.\n",
    "\n",
    "The figure below illustrates the relationship between `torch.jit.script`, `torch.jit.trace`, and `torch.vmap`, highlighting their mutual invocation paths. If module A invokes module B, it implies that B can be called by A."
   ]
  },
  {
   "cell_type": "markdown",
   "metadata": {},
   "source": [
    "<div style=\"text-align: center;\">\n",
    "    <img src=\"../../_static/jit_vmap.png\" alt=\"jit introduction\" style=\"width: 400px\"/>\n",
    "</div>"
   ]
  },
  {
   "cell_type": "markdown",
   "metadata": {},
   "source": [
    "For detailed usage of JIT and vectorizing map on PyTorch, please refer to the official PyTorch documentation for [TorchScript](https://pytorch.org/docs/stable/jit.html) and [`torch.vmap`](https://pytorch.org/docs/stable/generated/torch.vmap.html)."
   ]
  },
  {
   "cell_type": "markdown",
   "metadata": {},
   "source": [
    "## Specific Optimization Support in EvoX\n",
    "\n",
    "Within EvoX, most functions are defined inside classes, particularly subclasses of `ModuleBase`. To provide more comprehensive optimization supports, EvoX offers specific enhancements."
   ]
  }
 ],
 "metadata": {
  "kernelspec": {
   "display_name": "env_evoxtorch",
   "language": "python",
   "name": "python3"
  },
  "language_info": {
   "codemirror_mode": {
    "name": "ipython",
    "version": 3
   },
   "file_extension": ".py",
   "mimetype": "text/x-python",
   "name": "python",
   "nbconvert_exporter": "python",
   "pygments_lexer": "ipython3",
   "version": "3.12.7"
  }
 },
 "nbformat": 4,
 "nbformat_minor": 2
}
