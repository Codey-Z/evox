{
 "cells": [
  {
   "cell_type": "markdown",
   "metadata": {},
   "source": [
    "# Container Algorithms\n",
    "\n",
    "Container algorithms are a special type of algorithms that work by containing other algorithms and cannot work on their own.\n",
    "Container algorithms can be used to compose a series of normal algorithms together.\n",
    "\n",
    "## Cooperative Coevolution\n",
    "\n",
    "We offer Cooperative Coevolution (CC) framework for all algorithms.\n",
    "Currently, there are two types of CC container in EvoX, {class}`evox.algorithms.Coevolution` and {class}`evox.algorithms.VectorizedCoevolution`.\n",
    "The difference is that `VectorizedCoevolution` updates all sub-populations at the same time in each generation,\n",
    "but `Coevolution` follows the traditional approach that updates a single sub-populations at each generation.\n",
    "\n",
    "The difference can be illustrated as follows, where $pop1$ and $pop2$ are two sub-populations, and together they form the whole population."
   ]
  },
  {
   "cell_type": "markdown",
   "metadata": {},
   "source": [
    "Coevolution:\n",
    "```\n",
    "| $pop1_t$ | $pop2_t$ | -> | $pop1_{t+1}$ | $pop2_t$ | -> | $pop1_{t+1}$ | $pop2_{t+1}$ |\n",
    "```\n",
    "\n",
    "VectorizedCoevolution:\n",
    "```\n",
    "| $pop1_t$ | $pop2_t$ | -> | $pop1_{t+1}$ | $pop2_{t+1}$ |\n",
    "```\n",
    "\n",
    "Coevolution will update each sub-population one by one, so later sub-population can utilize the most up-to-date information from the previous sub-populations. Vectorized Coevolution on the other hand, updates all sub-populations at the same time, thus gives a more parallelized computation.\n",
    "In conclusion `VectorizedCoevolution` is faster, but `Coevolution` could be better in terms of optimization result with a limited number of evaluations."
   ]
  },
  {
   "cell_type": "markdown",
   "metadata": {},
   "source": [
    "\n",
    "### Code Example\n",
    "\n",
    "Coevolution with 2 CSO algorithms."
   ]
  },
  {
   "cell_type": "code",
   "execution_count": null,
   "metadata": {
    "vscode": {
     "languageId": "plaintext"
    }
   },
   "outputs": [],
   "source": [
    "monitor = EvalMonitor()\n",
    "# create a base algorithms\n",
    "base_algorithm = algorithms.CSO(\n",
    "    lb=jnp.full(shape=(20,), fill_value=-32),\n",
    "    ub=jnp.full(shape=(20,), fill_value=32),\n",
    "    pop_size=100,\n",
    ")\n",
    "# here we use [base_algorithm] * 2 to create two copies of the base algorithm\n",
    "base_algorithms = Stateful.stack([base_algorithm] * 2)\n",
    "\n",
    "# apply the container algorithm\n",
    "algorithm = algorithms.VectorizedCoevolution(\n",
    "    base_algorithms=base_algorithms,\n",
    "    dim=40,\n",
    "    num_subpops=2,\n",
    "    random_subpop=False,\n",
    ")\n",
    "\n",
    "# run the workflow as normal\n",
    "workflow = workflows.StdWorkflow(\n",
    "    algorithm,\n",
    "    problem=problems.numerical.Ackley(),\n",
    "    monitors=[monitor],\n",
    ")\n",
    "# init the workflow\n",
    "key = jax.random.PRNGKey(42)\n",
    "state = workflow.init(key)\n",
    "\n",
    "for i in range(200):\n",
    "    state = workflow.step(state)"
   ]
  },
  {
   "cell_type": "markdown",
   "metadata": {},
   "source": [
    "In summary to apply the container algorithm, you need to:\n",
    "\n",
    "1. Create a list of base algorithms.\n",
    "2. Use `Stateful.stack` to stack the base algorithms.\n",
    "3. Create a container algorithm with the stacked base algorithms.\n",
    "\n",
    "Please notice that the coevolution implementation in EvoX is still under development, so there might be some rough edges, and does not reflect the latest research results in the coevolution field."
   ]
  }
 ],
 "metadata": {
  "language_info": {
   "name": "python"
  }
 },
 "nbformat": 4,
 "nbformat_minor": 2
}
