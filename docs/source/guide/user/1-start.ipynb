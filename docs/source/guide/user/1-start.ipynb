{
 "cells": [
  {
   "cell_type": "markdown",
   "metadata": {},
   "source": [
    "# Quick Start\n",
    "\n",
    "In this notebook, we will help you be familiar with Evox through an simple example.\n",
    "\n",
    "To start with, make sure you have already installed the EvoX."
   ]
  },
  {
   "cell_type": "code",
   "execution_count": 1,
   "metadata": {},
   "outputs": [],
   "source": [
    "# install evox, skip it if you have already installed evox\n",
    "try:\n",
    "    import evox\n",
    "except ImportError:\n",
    "    !pip install --disable-pip-version-check --upgrade -q evox"
   ]
  },
  {
   "cell_type": "code",
   "execution_count": 4,
   "metadata": {},
   "outputs": [],
   "source": [
    "# Set an monitor\n",
    "monitor = EvalMonitor()"
   ]
  },
  {
   "cell_type": "markdown",
   "metadata": {},
   "source": [
    "## Initiate an workflow\n",
    "\n",
    "A **workflow** outlines the series of steps required to accomplish a task or project. In EvoX, a workflow represents the overall process of evolutionary computation, putting the algorithm, problem, monitor together.\n",
    "\n",
    "If we want to run the algorithm to solve the problem with a monitor, we need to create a workflow of the `Workflow` class."
   ]
  },
  {
   "cell_type": "code",
   "execution_count": 5,
   "metadata": {},
   "outputs": [],
   "source": [
    "# Initiate an workflow\n",
    "workflow = StdWorkflow()\n",
    "workflow.setup(\n",
    "    algorithm=algorithm,\n",
    "    problem=problem,\n",
    "    monitor=monitor,\n",
    "    )"
   ]
  },
  {
   "cell_type": "markdown",
   "metadata": {},
   "source": [
    "## Run the workflow\n",
    "\n",
    "Now, we can run the workflow:"
   ]
  },
  {
   "cell_type": "code",
   "execution_count": 6,
   "metadata": {},
   "outputs": [
    {
     "name": "stdout",
     "output_type": "stream",
     "text": [
      "The top fitness is tensor([0.0631]) in 0.1246 seconds at the 10th generation.\n",
      "The top fitness is tensor([0.0158]) in 0.1291 seconds at the 20th generation.\n",
      "The top fitness is tensor([0.0026]) in 0.1311 seconds at the 30th generation.\n",
      "The top fitness is tensor([0.0026]) in 0.1341 seconds at the 40th generation.\n",
      "The top fitness is tensor([0.0026]) in 0.1361 seconds at the 50th generation.\n",
      "The top fitness is tensor([0.0026]) in 0.1390 seconds at the 60th generation.\n",
      "The top fitness is tensor([0.0026]) in 0.1421 seconds at the 70th generation.\n",
      "The top fitness is tensor([0.0026]) in 0.1441 seconds at the 80th generation.\n",
      "The top fitness is tensor([0.0026]) in 0.1471 seconds at the 90th generation.\n",
      "The top fitness is tensor([0.0012]) in 0.1491 seconds at the 100th generation.\n"
     ]
    }
   ],
   "source": [
    "start = time.time()\n",
    "\n",
    "# Run the workflow\n",
    "for i in range(1,101):\n",
    "    workflow.step()\n",
    "    if i % 10 == 0:\n",
    "        run_time = time.time() - start\n",
    "        top_fitness = workflow.get_submodule(\"monitor\").topk_fitness\n",
    "        print(f\"The top fitness is {top_fitness} in {run_time:.4f} seconds at the {i}th generation.\")"
   ]
  },
  {
   "cell_type": "markdown",
   "metadata": {},
   "source": [
    "Congretulations if you can reproduce the Quick Start demo! Hope you enjoy the EvoX!"
   ]
  }
 ],
 "metadata": {
  "kernelspec": {
   "display_name": "evoxtorch",
   "language": "python",
   "name": "python3"
  },
  "language_info": {
   "codemirror_mode": {
    "name": "ipython",
    "version": 3
   },
   "file_extension": ".py",
   "mimetype": "text/x-python",
   "name": "python",
   "nbconvert_exporter": "python",
   "pygments_lexer": "ipython3",
   "version": "3.12.8"
  }
 },
 "nbformat": 4,
 "nbformat_minor": 2
}
