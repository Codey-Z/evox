{
 "cells": [
  {
   "cell_type": "markdown",
   "metadata": {},
   "source": [
    "# EvoX Installation Guide"
   ]
  },
  {
   "cell_type": "markdown",
   "metadata": {},
   "source": [
    "## Install EvoX"
   ]
  },
  {
   "cell_type": "markdown",
   "metadata": {},
   "source": [
    "EvoX is available at Pypi and can be installed via:\n",
    "\n",
    "```bash\n",
    "pip install evox\n",
    "```\n",
    "\n",
    "To install EvoX with optional dependencies:\n",
    "\n",
    "```bash\n",
    "pip install evox[<feature1>,<feature2>]\n",
    "```\n",
    "\n",
    "available features are `gymnasium`, `neuroevolution`, `envpool`, `distributed`, and `full` which concludes all features.\n",
    "For example, to install EvoX with all features, do:\n",
    "\n",
    "```bash\n",
    "pip install evox[full]\n",
    "```"
   ]
  },
  {
   "cell_type": "markdown",
   "metadata": {},
   "source": [
    "## Install Pytorch"
   ]
  },
  {
   "cell_type": "markdown",
   "metadata": {},
   "source": [
    "PyTorch is available via pip and conda. To install PyTorch, simply run:"
   ]
  },
  {
   "cell_type": "markdown",
   "metadata": {},
   "source": [
    "### Using pip\n",
    "\n",
    "```bash\n",
    "pip3 install torch torchvision torchaudio\n",
    "```\n",
    "\n",
    "### Using conda\n",
    "\n",
    "```bash\n",
    "conda install pytorch torchvision torchaudio cpuonly -c pytorch\n",
    "```\n",
    "\n",
    "If you’re in China, you can significantly speed up the installation by using the [Tsinghua University mirror](https://mirrors.tuna.tsinghua.edu.cn/anaconda/cloud/pytorch/). \n",
    "\n",
    "Here’s an example of using the mirror to install PyTorch with CUDA support:\n",
    "```bash\n",
    "conda install pytorch torchvision torchaudio pytorch-cuda=12.4 -c pytorch -c https://mirrors.tuna.tsinghua.edu.cn/anaconda/cloud/pytorch/linux-64/\n",
    "```"
   ]
  },
  {
   "cell_type": "markdown",
   "metadata": {},
   "source": [
    "## Install GPU support for PyTorch"
   ]
  },
  {
   "cell_type": "markdown",
   "metadata": {},
   "source": [
    "PyTorch can leverage GPU acceleration for significant performance improvement. To enable this, the following components are required:"
   ]
  },
  {
   "cell_type": "markdown",
   "metadata": {},
   "source": [
    "```bash\n",
    "stateDiagram\n",
    "    pytorch : pyTorch\n",
    "    cuda : CUDA libraries\n",
    "    driver : GPU driver\n",
    "    gpu : NVIDIA GPU\n",
    "    user: User Space\n",
    "    kernel: Kernel Space\n",
    "\n",
    "    direction LR\n",
    "\n",
    "    pytorch --> cuda\n",
    "    cuda --> driver\n",
    "    driver --> gpu\n",
    "```"
   ]
  },
  {
   "cell_type": "markdown",
   "metadata": {},
   "source": [
    "### CPU only"
   ]
  },
  {
   "cell_type": "markdown",
   "metadata": {},
   "source": [
    "If you don’t have a compatible GPU or prefer CPU execution:"
   ]
  },
  {
   "cell_type": "markdown",
   "metadata": {},
   "source": [
    "```bash\n",
    "pip install torch torchvision torchaudio\n",
    "```"
   ]
  },
  {
   "cell_type": "markdown",
   "metadata": {},
   "source": [
    "### NVIDIA GPU (CUDA)\n",
    "\n",
    "For GPU support, ensure the following components are installed:"
   ]
  },
  {
   "cell_type": "markdown",
   "metadata": {},
   "source": [
    "### Install NVIDIA GPU Driver"
   ]
  },
  {
   "cell_type": "markdown",
   "metadata": {},
   "source": [
    "Download the [latest NVIDIA Windows GPU Driver](https://www.nvidia.com/en-us/drivers/) and install it."
   ]
  },
  {
   "cell_type": "markdown",
   "metadata": {},
   "source": [
    "```{warning}\n",
    "Do **NOT** install any NVIDIA GPU Linux driver within WSL 2. Install the driver on the Windows side.\n",
    "```"
   ]
  },
  {
   "cell_type": "markdown",
   "metadata": {},
   "source": [
    "### GNU/Linux\n",
    "\n",
    "It is recommended to install the driver using your Linux distribution’s package manager:"
   ]
  },
  {
   "cell_type": "markdown",
   "metadata": {},
   "source": [
    "#### Ubuntu:\n",
    "```bash\n",
    "sudo apt install nvidia-driver-535 nvidia-utils-535\n",
    "```"
   ]
  },
  {
   "cell_type": "markdown",
   "metadata": {},
   "source": [
    "#### ArchLinux:\n",
    "\n",
    "```bash\n",
    "sudo pacman -S nvidia nvidia-utils\n",
    "```"
   ]
  },
  {
   "cell_type": "markdown",
   "metadata": {},
   "source": [
    "Reboot after installation."
   ]
  },
  {
   "cell_type": "markdown",
   "metadata": {},
   "source": [
    "### Install CUDA Libraries"
   ]
  },
  {
   "cell_type": "markdown",
   "metadata": {},
   "source": [
    "CUDA libraries are user space components and don’t require a reboot. Install them using your package manager:"
   ]
  },
  {
   "cell_type": "markdown",
   "metadata": {},
   "source": [
    "#### Ubuntu:\n",
    "\n",
    "```bash\n",
    "sudo apt install nvidia-cuda-toolkit\n",
    "```\n",
    "\n",
    "#### ArchLinux:\n",
    "\n",
    "```bash\n",
    "sudo pacman -S cuda cudnn nccl\n",
    "```\n",
    "\n",
    "Verify installation with:\n",
    "```bash\n",
    "nvidia-smi\n",
    "```"
   ]
  },
  {
   "cell_type": "markdown",
   "metadata": {},
   "source": [
    "### Install PyTorch with CUDA support\n",
    "\n",
    "Now, install PyTorch with the appropriate CUDA version:\n",
    "\n",
    "```bash\n",
    "pip install torch torchvision torchaudio --index-url https://download.pytorch.org/whl/cu124\n",
    "```\n",
    "\n",
    "### AMD GPU (ROCm)\n",
    "Install ROCm using a Docker container for ease:\n",
    "```bash\n",
    "docker run -it --network=host --device=/dev/kfd --device=/dev/dri --ipc=host --shm-size 16G --group-add video --cap-add=SYS_PTRACE --security-opt seccomp=unconfined rocm/pytorch:latest\n",
    "```\n"
   ]
  },
  {
   "cell_type": "markdown",
   "metadata": {},
   "source": [
    "### Verify Your Installation"
   ]
  },
  {
   "cell_type": "markdown",
   "metadata": {},
   "source": [
    "To confirm your installation, open a Python terminal and run the following:"
   ]
  },
  {
   "cell_type": "code",
   "execution_count": 3,
   "metadata": {},
   "outputs": [
    {
     "ename": "ModuleNotFoundError",
     "evalue": "No module named 'torch'",
     "output_type": "error",
     "traceback": [
      "\u001b[0;31m---------------------------------------------------------------------------\u001b[0m",
      "\u001b[0;31mModuleNotFoundError\u001b[0m                       Traceback (most recent call last)",
      "Cell \u001b[0;32mIn[3], line 1\u001b[0m\n\u001b[0;32m----> 1\u001b[0m \u001b[38;5;28;01mimport\u001b[39;00m\u001b[38;5;250m \u001b[39m\u001b[38;5;21;01mtorch\u001b[39;00m\n\u001b[1;32m      2\u001b[0m \u001b[38;5;28mprint\u001b[39m(torch\u001b[38;5;241m.\u001b[39mcuda\u001b[38;5;241m.\u001b[39mis_available())\n\u001b[1;32m      3\u001b[0m \u001b[38;5;28mprint\u001b[39m(torch\u001b[38;5;241m.\u001b[39mones(\u001b[38;5;241m2\u001b[39m, \u001b[38;5;241m2\u001b[39m)\u001b[38;5;241m.\u001b[39mcuda())\n",
      "\u001b[0;31mModuleNotFoundError\u001b[0m: No module named 'torch'"
     ]
    }
   ],
   "source": [
    "import torch\n",
    "print(torch.cuda.is_available())\n",
    "print(torch.ones(2, 2).cuda())"
   ]
  }
 ],
 "metadata": {
  "kernelspec": {
   "display_name": "torch",
   "language": "python",
   "name": "python3"
  },
  "language_info": {
   "codemirror_mode": {
    "name": "ipython",
    "version": 3
   },
   "file_extension": ".py",
   "mimetype": "text/x-python",
   "name": "python",
   "nbconvert_exporter": "python",
   "pygments_lexer": "ipython3",
   "version": "3.10.16"
  }
 },
 "nbformat": 4,
 "nbformat_minor": 2
}
