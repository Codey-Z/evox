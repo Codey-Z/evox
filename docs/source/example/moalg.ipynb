{
 "cells": [
  {
   "cell_type": "markdown",
   "metadata": {},
   "source": [
    "# Multi-Objective Algorithm"
   ]
  },
  {
   "cell_type": "markdown",
   "metadata": {},
   "source": [
    "In this notebook, we will use the Reference Vector Guided Evolutionary Algorithm (**RVEA**) to find the optimal solutions of the **DTLZ2** problem."
   ]
  },
  {
   "cell_type": "code",
   "execution_count": 1,
   "metadata": {},
   "outputs": [],
   "source": [
    "import time\n",
    "import torch\n",
    "\n",
    "from evox.algorithms import RVEA\n",
    "from evox.metrics import igd\n",
    "from evox.problems.numerical import DTLZ2\n",
    "from evox.workflows import StdWorkflow, EvalMonitor"
   ]
  },
  {
   "cell_type": "markdown",
   "metadata": {},
   "source": [
    "## (Optional) Use GPU to run the code\n",
    "We often prefer to run our code on a GPU for faster execution. However, if a GPU is unavailable, running on a CPU is also acceptable."
   ]
  },
  {
   "cell_type": "code",
   "execution_count": 2,
   "metadata": {},
   "outputs": [
    {
     "name": "stdout",
     "output_type": "stream",
     "text": [
      "cuda:0\n"
     ]
    }
   ],
   "source": [
    "# Use GPU first to run the code.\n",
    "torch.set_default_device(\"cuda\" if torch.cuda.is_available() else \"cpu\")\n",
    "print(torch.get_default_device())"
   ]
  },
  {
   "cell_type": "markdown",
   "metadata": {},
   "source": [
    "## Running example: RVEA on DTLZ2 problem\n",
    "The following code is used to set up the [`DTLZ2`](#evox.problems.numerical.dtlz) problem and the [`RVEA`](#evox.algorithms.mo.rvea) algorithm. More information about the problem and algorithm can be found in the corresponding section of the documentation."
   ]
  },
  {
   "cell_type": "code",
   "execution_count": 3,
   "metadata": {},
   "outputs": [],
   "source": [
    "# Init the problem, algorithm and workflow.\n",
    "prob = DTLZ2(m=3)\n",
    "pf = prob.pf()\n",
    "algo = RVEA(pop_size=100, n_objs=3, lb=-torch.zeros(12), ub=torch.ones(12))\n",
    "monitor = EvalMonitor()\n",
    "workflow = StdWorkflow()\n",
    "workflow.setup(algo, prob, monitor)\n",
    "workflow.init_step()"
   ]
  },
  {
   "cell_type": "markdown",
   "metadata": {},
   "source": [
    "With this setup in place, we can now start to optimize. We set to let the multi-objective algorithm optimize for 100 steps on this problem"
   ]
  },
  {
   "cell_type": "code",
   "execution_count": 4,
   "metadata": {},
   "outputs": [
    {
     "name": "stderr",
     "output_type": "stream",
     "text": [
      "/opt/conda/envs/py_3.10/lib/python3.10/site-packages/torch/functional.py:1478: UserWarning: Attempting to use hipBLASLt on an unsupported architecture! Overriding blas backend to hipblas (Triggered internally at ../aten/src/ATen/Context.cpp:296.)\n",
      "  return _VF.cdist(x1, x2, p, None)  # type: ignore[attr-defined]\n"
     ]
    },
    {
     "name": "stdout",
     "output_type": "stream",
     "text": [
      "tensor(0.5008, device='cuda:0')\n",
      "tensor(0.1702, device='cuda:0')\n",
      "tensor(0.0918, device='cuda:0')\n",
      "tensor(0.0658, device='cuda:0')\n",
      "tensor(0.0581, device='cuda:0')\n",
      "tensor(0.0561, device='cuda:0')\n",
      "tensor(0.0555, device='cuda:0')\n",
      "tensor(0.0551, device='cuda:0')\n",
      "tensor(0.0546, device='cuda:0')\n",
      "tensor(0.0544, device='cuda:0')\n"
     ]
    }
   ],
   "source": [
    "# Run the workflow for 100 steps\n",
    "t = time.time()\n",
    "for i in range(100):\n",
    "    workflow.step()\n",
    "    fit = workflow.algorithm.fit\n",
    "    fit = fit[~torch.isnan(fit).any(dim=1)]\n",
    "    if i % 10 == 0:\n",
    "        print(igd(fit, pf))"
   ]
  },
  {
   "cell_type": "code",
   "execution_count": null,
   "metadata": {},
   "outputs": [],
   "source": [
    "workflow.get_submodule(\"monitor\").plot()"
   ]
  }
 ],
 "metadata": {
  "kernelspec": {
   "display_name": "py_3.10",
   "language": "python",
   "name": "python3"
  },
  "language_info": {
   "codemirror_mode": {
    "name": "ipython",
    "version": 3
   },
   "file_extension": ".py",
   "mimetype": "text/x-python",
   "name": "python",
   "nbconvert_exporter": "python",
   "pygments_lexer": "ipython3",
   "version": "3.10.16"
  }
 },
 "nbformat": 4,
 "nbformat_minor": 2
}
