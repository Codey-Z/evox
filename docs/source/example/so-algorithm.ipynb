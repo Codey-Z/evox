{
 "cells": [
  {
   "cell_type": "markdown",
   "metadata": {},
   "source": [
    "# Numerical Optimization"
   ]
  },
  {
   "cell_type": "markdown",
   "metadata": {},
   "source": [
    "In this notebook, we will provide a step-by-step tutorial on how to use EvoX to optimize the Ackley function with the Particle Swarm Optimization (PSO) algorithm. Both algorithm and problem are built-in.\n",
    "\n",
    "First, we should import all necessary modules including `PSO` (algorithm), `Ackley` (problem) and `StdWorkflow` & `EvalMonitor` (workflow)."
   ]
  },
  {
   "cell_type": "code",
   "execution_count": 1,
   "metadata": {},
   "outputs": [],
   "source": [
    "import torch\n",
    "\n",
    "from evox.algorithms.pso_variants import PSO\n",
    "from evox.problems.numerical import Ackley\n",
    "from evox.workflows import StdWorkflow, EvalMonitor"
   ]
  },
  {
   "cell_type": "markdown",
   "metadata": {},
   "source": [
    "Here, we instantiate the [`PSO`](#evox.algorithms.pso_variants.pso) algorithm. We specify the following settings:\n",
    "\n",
    "- `pop_size`: The size of the particle swarm (population).\n",
    "- `lb` and `ub`: The lower and upper bounds for each dimension in the search space.\n",
    "- Other parameters are all default. Please refer to the detailed API."
   ]
  },
  {
   "cell_type": "code",
   "execution_count": 2,
   "metadata": {},
   "outputs": [],
   "source": [
    "# Define the algorithm\n",
    "algorithm = PSO(pop_size=100, lb=-32 * torch.ones(10), ub=32 * torch.ones(10))"
   ]
  },
  {
   "cell_type": "markdown",
   "metadata": {},
   "source": [
    "Next, we choose the [`Ackley`](#evox.problems.numerical.basic.Ackley) function in EvoX' s numerical problem."
   ]
  },
  {
   "cell_type": "code",
   "execution_count": 3,
   "metadata": {},
   "outputs": [],
   "source": [
    "# Define the problem\n",
    "problem = Ackley()"
   ]
  },
  {
   "cell_type": "markdown",
   "metadata": {},
   "source": [
    "We creat an [`EvalMonitor`](#evox.workflows.eval_monitor.EvalMonitor) instance to track necessary information during the optimization procedure."
   ]
  },
  {
   "cell_type": "code",
   "execution_count": 4,
   "metadata": {},
   "outputs": [],
   "source": [
    "# Define the monitor\n",
    "monitor = EvalMonitor()"
   ]
  },
  {
   "cell_type": "markdown",
   "metadata": {},
   "source": [
    "The [`StdWorkflow`](#evox.workflows.std_workflow.StdWorkflow) class provides a standardized process to integrate the algorithm, problem, and monitor."
   ]
  },
  {
   "cell_type": "code",
   "execution_count": 5,
   "metadata": {},
   "outputs": [],
   "source": [
    "# Define the workflow\n",
    "workflow = StdWorkflow()"
   ]
  },
  {
   "cell_type": "markdown",
   "metadata": {},
   "source": [
    "Calling `setup()` initializes the components so that the workflow is ready to perform optimization steps."
   ]
  },
  {
   "cell_type": "code",
   "execution_count": 6,
   "metadata": {},
   "outputs": [],
   "source": [
    "# Set up the workflow with the defined algorithm, problem and monitor\n",
    "workflow.setup(algorithm=algorithm, problem=problem, monitor=monitor)"
   ]
  },
  {
   "cell_type": "markdown",
   "metadata": {},
   "source": [
    "We run the optimization for a certain number of iterations (100 in this example). In each iteration, the `step()` method updates the PSO algorithm, evaluates new candidate solutions on the Ackley function, and tracks their fitness via the monitor."
   ]
  },
  {
   "cell_type": "code",
   "execution_count": 7,
   "metadata": {},
   "outputs": [],
   "source": [
    "# Perform the Ackley function optimization procedure\n",
    "for _ in range(100):\n",
    "    workflow.step()"
   ]
  },
  {
   "cell_type": "markdown",
   "metadata": {},
   "source": [
    "Finally, we retrieve the [`monitor`](#StdWorkflow.get_submodule) submodule from the workflow to access the top solutions found so far (`topk_solutions`) and their corresponding objective values (`topk_fitness`). We then print the best result and the associated solution."
   ]
  },
  {
   "cell_type": "code",
   "execution_count": 8,
   "metadata": {},
   "outputs": [
    {
     "name": "stdout",
     "output_type": "stream",
     "text": [
      "The best solution is:\n",
      "tensor([[ 5.4242e-05, -6.5714e-06, -7.9146e-05,  2.3817e-05,  3.8942e-05,\n",
      "          3.4876e-05, -1.0208e-05, -6.0883e-05, -3.2365e-05,  2.4358e-05]]),\n",
      "with the minimum value:\n",
      "tensor([0.0002])\n"
     ]
    }
   ],
   "source": [
    "# Get the best solution and its fitness\n",
    "monitor = workflow.get_submodule(\"monitor\")\n",
    "population = monitor.topk_solutions\n",
    "fitness = monitor.topk_fitness\n",
    "print(f\"The best solution is:\\n{population},\\nwith the minimum value:\\n{fitness}\")"
   ]
  }
 ],
 "metadata": {
  "kernelspec": {
   "display_name": "evoxsurrogate",
   "language": "python",
   "name": "python3"
  },
  "language_info": {
   "codemirror_mode": {
    "name": "ipython",
    "version": 3
   },
   "file_extension": ".py",
   "mimetype": "text/x-python",
   "name": "python",
   "nbconvert_exporter": "python",
   "pygments_lexer": "ipython3",
   "version": "3.12.8"
  }
 },
 "nbformat": 4,
 "nbformat_minor": 2
}
